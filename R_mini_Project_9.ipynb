{
  "nbformat": 4,
  "nbformat_minor": 0,
  "metadata": {
    "colab": {
      "name": "R_mini_Project_08",
      "provenance": []
    },
    "kernelspec": {
      "name": "ir",
      "display_name": "R"
    },
    "language_info": {
      "name": "R"
    }
  },
  "cells": [
    {
      "cell_type": "markdown",
      "metadata": {
        "id": "bsEymyh5Sld3"
      },
      "source": [
        "# Task 1"
      ]
    },
    {
      "cell_type": "markdown",
      "metadata": {
        "id": "I3z9eJz7thsN"
      },
      "source": [
        "read dataset"
      ]
    },
    {
      "cell_type": "code",
      "metadata": {
        "colab": {
          "base_uri": "https://localhost:8080/",
          "height": 283
        },
        "id": "ffPBpV6VJKwj",
        "outputId": "ba68ceb9-4c9c-4cc1-d658-8e2d7cc9917e"
      },
      "source": [
        "titanic <- read.csv(\"https://raw.githubusercontent.com/rushidarge/Rlab_College/main/data/titanic.csv\")\n",
        "head(titanic)"
      ],
      "execution_count": null,
      "outputs": [
        {
          "output_type": "display_data",
          "data": {
            "text/plain": [
              "  PassengerId Survived Pclass\n",
              "1 1           0        3     \n",
              "2 2           1        1     \n",
              "3 3           1        3     \n",
              "4 4           1        1     \n",
              "5 5           0        3     \n",
              "6 6           0        3     \n",
              "  Name                                                Sex    Age SibSp Parch\n",
              "1 Braund, Mr. Owen Harris                             male   22  1     0    \n",
              "2 Cumings, Mrs. John Bradley (Florence Briggs Thayer) female 38  1     0    \n",
              "3 Heikkinen, Miss. Laina                              female 26  0     0    \n",
              "4 Futrelle, Mrs. Jacques Heath (Lily May Peel)        female 35  1     0    \n",
              "5 Allen, Mr. William Henry                            male   35  0     0    \n",
              "6 Moran, Mr. James                                    male   NA  0     0    \n",
              "  Ticket           Fare    Cabin Embarked\n",
              "1 A/5 21171         7.2500       S       \n",
              "2 PC 17599         71.2833 C85   C       \n",
              "3 STON/O2. 3101282  7.9250       S       \n",
              "4 113803           53.1000 C123  S       \n",
              "5 373450            8.0500       S       \n",
              "6 330877            8.4583       Q       "
            ],
            "text/latex": "A data.frame: 6 × 12\n\\begin{tabular}{r|llllllllllll}\n  & PassengerId & Survived & Pclass & Name & Sex & Age & SibSp & Parch & Ticket & Fare & Cabin & Embarked\\\\\n  & <int> & <int> & <int> & <chr> & <chr> & <dbl> & <int> & <int> & <chr> & <dbl> & <chr> & <chr>\\\\\n\\hline\n\t1 & 1 & 0 & 3 & Braund, Mr. Owen Harris                             & male   & 22 & 1 & 0 & A/5 21171        &  7.2500 &      & S\\\\\n\t2 & 2 & 1 & 1 & Cumings, Mrs. John Bradley (Florence Briggs Thayer) & female & 38 & 1 & 0 & PC 17599         & 71.2833 & C85  & C\\\\\n\t3 & 3 & 1 & 3 & Heikkinen, Miss. Laina                              & female & 26 & 0 & 0 & STON/O2. 3101282 &  7.9250 &      & S\\\\\n\t4 & 4 & 1 & 1 & Futrelle, Mrs. Jacques Heath (Lily May Peel)        & female & 35 & 1 & 0 & 113803           & 53.1000 & C123 & S\\\\\n\t5 & 5 & 0 & 3 & Allen, Mr. William Henry                            & male   & 35 & 0 & 0 & 373450           &  8.0500 &      & S\\\\\n\t6 & 6 & 0 & 3 & Moran, Mr. James                                    & male   & NA & 0 & 0 & 330877           &  8.4583 &      & Q\\\\\n\\end{tabular}\n",
            "text/markdown": "\nA data.frame: 6 × 12\n\n| <!--/--> | PassengerId &lt;int&gt; | Survived &lt;int&gt; | Pclass &lt;int&gt; | Name &lt;chr&gt; | Sex &lt;chr&gt; | Age &lt;dbl&gt; | SibSp &lt;int&gt; | Parch &lt;int&gt; | Ticket &lt;chr&gt; | Fare &lt;dbl&gt; | Cabin &lt;chr&gt; | Embarked &lt;chr&gt; |\n|---|---|---|---|---|---|---|---|---|---|---|---|---|\n| 1 | 1 | 0 | 3 | Braund, Mr. Owen Harris                             | male   | 22 | 1 | 0 | A/5 21171        |  7.2500 | <!----> | S |\n| 2 | 2 | 1 | 1 | Cumings, Mrs. John Bradley (Florence Briggs Thayer) | female | 38 | 1 | 0 | PC 17599         | 71.2833 | C85  | C |\n| 3 | 3 | 1 | 3 | Heikkinen, Miss. Laina                              | female | 26 | 0 | 0 | STON/O2. 3101282 |  7.9250 | <!----> | S |\n| 4 | 4 | 1 | 1 | Futrelle, Mrs. Jacques Heath (Lily May Peel)        | female | 35 | 1 | 0 | 113803           | 53.1000 | C123 | S |\n| 5 | 5 | 0 | 3 | Allen, Mr. William Henry                            | male   | 35 | 0 | 0 | 373450           |  8.0500 | <!----> | S |\n| 6 | 6 | 0 | 3 | Moran, Mr. James                                    | male   | NA | 0 | 0 | 330877           |  8.4583 | <!----> | Q |\n\n",
            "text/html": [
              "<table class=\"dataframe\">\n",
              "<caption>A data.frame: 6 × 12</caption>\n",
              "<thead>\n",
              "\t<tr><th></th><th scope=col>PassengerId</th><th scope=col>Survived</th><th scope=col>Pclass</th><th scope=col>Name</th><th scope=col>Sex</th><th scope=col>Age</th><th scope=col>SibSp</th><th scope=col>Parch</th><th scope=col>Ticket</th><th scope=col>Fare</th><th scope=col>Cabin</th><th scope=col>Embarked</th></tr>\n",
              "\t<tr><th></th><th scope=col>&lt;int&gt;</th><th scope=col>&lt;int&gt;</th><th scope=col>&lt;int&gt;</th><th scope=col>&lt;chr&gt;</th><th scope=col>&lt;chr&gt;</th><th scope=col>&lt;dbl&gt;</th><th scope=col>&lt;int&gt;</th><th scope=col>&lt;int&gt;</th><th scope=col>&lt;chr&gt;</th><th scope=col>&lt;dbl&gt;</th><th scope=col>&lt;chr&gt;</th><th scope=col>&lt;chr&gt;</th></tr>\n",
              "</thead>\n",
              "<tbody>\n",
              "\t<tr><th scope=row>1</th><td>1</td><td>0</td><td>3</td><td>Braund, Mr. Owen Harris                            </td><td>male  </td><td>22</td><td>1</td><td>0</td><td>A/5 21171       </td><td> 7.2500</td><td>    </td><td>S</td></tr>\n",
              "\t<tr><th scope=row>2</th><td>2</td><td>1</td><td>1</td><td>Cumings, Mrs. John Bradley (Florence Briggs Thayer)</td><td>female</td><td>38</td><td>1</td><td>0</td><td>PC 17599        </td><td>71.2833</td><td>C85 </td><td>C</td></tr>\n",
              "\t<tr><th scope=row>3</th><td>3</td><td>1</td><td>3</td><td>Heikkinen, Miss. Laina                             </td><td>female</td><td>26</td><td>0</td><td>0</td><td>STON/O2. 3101282</td><td> 7.9250</td><td>    </td><td>S</td></tr>\n",
              "\t<tr><th scope=row>4</th><td>4</td><td>1</td><td>1</td><td>Futrelle, Mrs. Jacques Heath (Lily May Peel)       </td><td>female</td><td>35</td><td>1</td><td>0</td><td>113803          </td><td>53.1000</td><td>C123</td><td>S</td></tr>\n",
              "\t<tr><th scope=row>5</th><td>5</td><td>0</td><td>3</td><td>Allen, Mr. William Henry                           </td><td>male  </td><td>35</td><td>0</td><td>0</td><td>373450          </td><td> 8.0500</td><td>    </td><td>S</td></tr>\n",
              "\t<tr><th scope=row>6</th><td>6</td><td>0</td><td>3</td><td>Moran, Mr. James                                   </td><td>male  </td><td>NA</td><td>0</td><td>0</td><td>330877          </td><td> 8.4583</td><td>    </td><td>Q</td></tr>\n",
              "</tbody>\n",
              "</table>\n"
            ]
          },
          "metadata": {
            "tags": []
          }
        }
      ]
    },
    {
      "cell_type": "markdown",
      "metadata": {
        "id": "XnvvVGHftl22"
      },
      "source": [
        "summerize dataset"
      ]
    },
    {
      "cell_type": "code",
      "metadata": {
        "colab": {
          "base_uri": "https://localhost:8080/",
          "height": 425
        },
        "id": "DPfI-KrgKIXO",
        "outputId": "051799c2-46f8-4215-fb26-1b62413a8674"
      },
      "source": [
        "summary(titanic)"
      ],
      "execution_count": null,
      "outputs": [
        {
          "output_type": "display_data",
          "data": {
            "text/plain": [
              "  PassengerId       Survived          Pclass          Name          \n",
              " Min.   :  1.0   Min.   :0.0000   Min.   :1.000   Length:891        \n",
              " 1st Qu.:223.5   1st Qu.:0.0000   1st Qu.:2.000   Class :character  \n",
              " Median :446.0   Median :0.0000   Median :3.000   Mode  :character  \n",
              " Mean   :446.0   Mean   :0.3838   Mean   :2.309                     \n",
              " 3rd Qu.:668.5   3rd Qu.:1.0000   3rd Qu.:3.000                     \n",
              " Max.   :891.0   Max.   :1.0000   Max.   :3.000                     \n",
              "                                                                    \n",
              "     Sex                 Age            SibSp           Parch       \n",
              " Length:891         Min.   : 0.42   Min.   :0.000   Min.   :0.0000  \n",
              " Class :character   1st Qu.:20.12   1st Qu.:0.000   1st Qu.:0.0000  \n",
              " Mode  :character   Median :28.00   Median :0.000   Median :0.0000  \n",
              "                    Mean   :29.70   Mean   :0.523   Mean   :0.3816  \n",
              "                    3rd Qu.:38.00   3rd Qu.:1.000   3rd Qu.:0.0000  \n",
              "                    Max.   :80.00   Max.   :8.000   Max.   :6.0000  \n",
              "                    NA's   :177                                     \n",
              "    Ticket               Fare           Cabin             Embarked        \n",
              " Length:891         Min.   :  0.00   Length:891         Length:891        \n",
              " Class :character   1st Qu.:  7.91   Class :character   Class :character  \n",
              " Mode  :character   Median : 14.45   Mode  :character   Mode  :character  \n",
              "                    Mean   : 32.20                                        \n",
              "                    3rd Qu.: 31.00                                        \n",
              "                    Max.   :512.33                                        \n",
              "                                                                          "
            ]
          },
          "metadata": {
            "tags": []
          }
        }
      ]
    },
    {
      "cell_type": "markdown",
      "metadata": {
        "id": "1q_5OCPitp3K"
      },
      "source": [
        "class variable"
      ]
    },
    {
      "cell_type": "code",
      "metadata": {
        "colab": {
          "base_uri": "https://localhost:8080/",
          "height": 1000
        },
        "id": "ckU-ogbAKcf8",
        "outputId": "277f9943-7d95-4a1b-d9fb-6560eea756b4"
      },
      "source": [
        "titanic[c('Name')]"
      ],
      "execution_count": null,
      "outputs": [
        {
          "output_type": "display_data",
          "data": {
            "text/plain": [
              "    Name                                                     \n",
              "1   Braund, Mr. Owen Harris                                  \n",
              "2   Cumings, Mrs. John Bradley (Florence Briggs Thayer)      \n",
              "3   Heikkinen, Miss. Laina                                   \n",
              "4   Futrelle, Mrs. Jacques Heath (Lily May Peel)             \n",
              "5   Allen, Mr. William Henry                                 \n",
              "6   Moran, Mr. James                                         \n",
              "7   McCarthy, Mr. Timothy J                                  \n",
              "8   Palsson, Master. Gosta Leonard                           \n",
              "9   Johnson, Mrs. Oscar W (Elisabeth Vilhelmina Berg)        \n",
              "10  Nasser, Mrs. Nicholas (Adele Achem)                      \n",
              "11  Sandstrom, Miss. Marguerite Rut                          \n",
              "12  Bonnell, Miss. Elizabeth                                 \n",
              "13  Saundercock, Mr. William Henry                           \n",
              "14  Andersson, Mr. Anders Johan                              \n",
              "15  Vestrom, Miss. Hulda Amanda Adolfina                     \n",
              "16  Hewlett, Mrs. (Mary D Kingcome)                          \n",
              "17  Rice, Master. Eugene                                     \n",
              "18  Williams, Mr. Charles Eugene                             \n",
              "19  Vander Planke, Mrs. Julius (Emelia Maria Vandemoortele)  \n",
              "20  Masselmani, Mrs. Fatima                                  \n",
              "21  Fynney, Mr. Joseph J                                     \n",
              "22  Beesley, Mr. Lawrence                                    \n",
              "23  McGowan, Miss. Anna \"Annie\"                              \n",
              "24  Sloper, Mr. William Thompson                             \n",
              "25  Palsson, Miss. Torborg Danira                            \n",
              "26  Asplund, Mrs. Carl Oscar (Selma Augusta Emilia Johansson)\n",
              "27  Emir, Mr. Farred Chehab                                  \n",
              "28  Fortune, Mr. Charles Alexander                           \n",
              "29  O'Dwyer, Miss. Ellen \"Nellie\"                            \n",
              "30  Todoroff, Mr. Lalio                                      \n",
              "⋮   ⋮                                                        \n",
              "862 Giles, Mr. Frederick Edward                              \n",
              "863 Swift, Mrs. Frederick Joel (Margaret Welles Barron)      \n",
              "864 Sage, Miss. Dorothy Edith \"Dolly\"                        \n",
              "865 Gill, Mr. John William                                   \n",
              "866 Bystrom, Mrs. (Karolina)                                 \n",
              "867 Duran y More, Miss. Asuncion                             \n",
              "868 Roebling, Mr. Washington Augustus II                     \n",
              "869 van Melkebeke, Mr. Philemon                              \n",
              "870 Johnson, Master. Harold Theodor                          \n",
              "871 Balkic, Mr. Cerin                                        \n",
              "872 Beckwith, Mrs. Richard Leonard (Sallie Monypeny)         \n",
              "873 Carlsson, Mr. Frans Olof                                 \n",
              "874 Vander Cruyssen, Mr. Victor                              \n",
              "875 Abelson, Mrs. Samuel (Hannah Wizosky)                    \n",
              "876 Najib, Miss. Adele Kiamie \"Jane\"                         \n",
              "877 Gustafsson, Mr. Alfred Ossian                            \n",
              "878 Petroff, Mr. Nedelio                                     \n",
              "879 Laleff, Mr. Kristo                                       \n",
              "880 Potter, Mrs. Thomas Jr (Lily Alexenia Wilson)            \n",
              "881 Shelley, Mrs. William (Imanita Parrish Hall)             \n",
              "882 Markun, Mr. Johann                                       \n",
              "883 Dahlberg, Miss. Gerda Ulrika                             \n",
              "884 Banfield, Mr. Frederick James                            \n",
              "885 Sutehall, Mr. Henry Jr                                   \n",
              "886 Rice, Mrs. William (Margaret Norton)                     \n",
              "887 Montvila, Rev. Juozas                                    \n",
              "888 Graham, Miss. Margaret Edith                             \n",
              "889 Johnston, Miss. Catherine Helen \"Carrie\"                 \n",
              "890 Behr, Mr. Karl Howell                                    \n",
              "891 Dooley, Mr. Patrick                                      "
            ],
            "text/latex": "A data.frame: 891 × 1\n\\begin{tabular}{l}\n Name\\\\\n <chr>\\\\\n\\hline\n\t Braund, Mr. Owen Harris                                  \\\\\n\t Cumings, Mrs. John Bradley (Florence Briggs Thayer)      \\\\\n\t Heikkinen, Miss. Laina                                   \\\\\n\t Futrelle, Mrs. Jacques Heath (Lily May Peel)             \\\\\n\t Allen, Mr. William Henry                                 \\\\\n\t Moran, Mr. James                                         \\\\\n\t McCarthy, Mr. Timothy J                                  \\\\\n\t Palsson, Master. Gosta Leonard                           \\\\\n\t Johnson, Mrs. Oscar W (Elisabeth Vilhelmina Berg)        \\\\\n\t Nasser, Mrs. Nicholas (Adele Achem)                      \\\\\n\t Sandstrom, Miss. Marguerite Rut                          \\\\\n\t Bonnell, Miss. Elizabeth                                 \\\\\n\t Saundercock, Mr. William Henry                           \\\\\n\t Andersson, Mr. Anders Johan                              \\\\\n\t Vestrom, Miss. Hulda Amanda Adolfina                     \\\\\n\t Hewlett, Mrs. (Mary D Kingcome)                          \\\\\n\t Rice, Master. Eugene                                     \\\\\n\t Williams, Mr. Charles Eugene                             \\\\\n\t Vander Planke, Mrs. Julius (Emelia Maria Vandemoortele)  \\\\\n\t Masselmani, Mrs. Fatima                                  \\\\\n\t Fynney, Mr. Joseph J                                     \\\\\n\t Beesley, Mr. Lawrence                                    \\\\\n\t McGowan, Miss. Anna \"Annie\"                              \\\\\n\t Sloper, Mr. William Thompson                             \\\\\n\t Palsson, Miss. Torborg Danira                            \\\\\n\t Asplund, Mrs. Carl Oscar (Selma Augusta Emilia Johansson)\\\\\n\t Emir, Mr. Farred Chehab                                  \\\\\n\t Fortune, Mr. Charles Alexander                           \\\\\n\t O'Dwyer, Miss. Ellen \"Nellie\"                            \\\\\n\t Todoroff, Mr. Lalio                                      \\\\\n\t ⋮\\\\\n\t Giles, Mr. Frederick Edward                        \\\\\n\t Swift, Mrs. Frederick Joel (Margaret Welles Barron)\\\\\n\t Sage, Miss. Dorothy Edith \"Dolly\"                  \\\\\n\t Gill, Mr. John William                             \\\\\n\t Bystrom, Mrs. (Karolina)                           \\\\\n\t Duran y More, Miss. Asuncion                       \\\\\n\t Roebling, Mr. Washington Augustus II               \\\\\n\t van Melkebeke, Mr. Philemon                        \\\\\n\t Johnson, Master. Harold Theodor                    \\\\\n\t Balkic, Mr. Cerin                                  \\\\\n\t Beckwith, Mrs. Richard Leonard (Sallie Monypeny)   \\\\\n\t Carlsson, Mr. Frans Olof                           \\\\\n\t Vander Cruyssen, Mr. Victor                        \\\\\n\t Abelson, Mrs. Samuel (Hannah Wizosky)              \\\\\n\t Najib, Miss. Adele Kiamie \"Jane\"                   \\\\\n\t Gustafsson, Mr. Alfred Ossian                      \\\\\n\t Petroff, Mr. Nedelio                               \\\\\n\t Laleff, Mr. Kristo                                 \\\\\n\t Potter, Mrs. Thomas Jr (Lily Alexenia Wilson)      \\\\\n\t Shelley, Mrs. William (Imanita Parrish Hall)       \\\\\n\t Markun, Mr. Johann                                 \\\\\n\t Dahlberg, Miss. Gerda Ulrika                       \\\\\n\t Banfield, Mr. Frederick James                      \\\\\n\t Sutehall, Mr. Henry Jr                             \\\\\n\t Rice, Mrs. William (Margaret Norton)               \\\\\n\t Montvila, Rev. Juozas                              \\\\\n\t Graham, Miss. Margaret Edith                       \\\\\n\t Johnston, Miss. Catherine Helen \"Carrie\"           \\\\\n\t Behr, Mr. Karl Howell                              \\\\\n\t Dooley, Mr. Patrick                                \\\\\n\\end{tabular}\n",
            "text/markdown": "\nA data.frame: 891 × 1\n\n| Name &lt;chr&gt; |\n|---|\n| Braund, Mr. Owen Harris                                   |\n| Cumings, Mrs. John Bradley (Florence Briggs Thayer)       |\n| Heikkinen, Miss. Laina                                    |\n| Futrelle, Mrs. Jacques Heath (Lily May Peel)              |\n| Allen, Mr. William Henry                                  |\n| Moran, Mr. James                                          |\n| McCarthy, Mr. Timothy J                                   |\n| Palsson, Master. Gosta Leonard                            |\n| Johnson, Mrs. Oscar W (Elisabeth Vilhelmina Berg)         |\n| Nasser, Mrs. Nicholas (Adele Achem)                       |\n| Sandstrom, Miss. Marguerite Rut                           |\n| Bonnell, Miss. Elizabeth                                  |\n| Saundercock, Mr. William Henry                            |\n| Andersson, Mr. Anders Johan                               |\n| Vestrom, Miss. Hulda Amanda Adolfina                      |\n| Hewlett, Mrs. (Mary D Kingcome)                           |\n| Rice, Master. Eugene                                      |\n| Williams, Mr. Charles Eugene                              |\n| Vander Planke, Mrs. Julius (Emelia Maria Vandemoortele)   |\n| Masselmani, Mrs. Fatima                                   |\n| Fynney, Mr. Joseph J                                      |\n| Beesley, Mr. Lawrence                                     |\n| McGowan, Miss. Anna \"Annie\"                               |\n| Sloper, Mr. William Thompson                              |\n| Palsson, Miss. Torborg Danira                             |\n| Asplund, Mrs. Carl Oscar (Selma Augusta Emilia Johansson) |\n| Emir, Mr. Farred Chehab                                   |\n| Fortune, Mr. Charles Alexander                            |\n| O'Dwyer, Miss. Ellen \"Nellie\"                             |\n| Todoroff, Mr. Lalio                                       |\n| ⋮ |\n| Giles, Mr. Frederick Edward                         |\n| Swift, Mrs. Frederick Joel (Margaret Welles Barron) |\n| Sage, Miss. Dorothy Edith \"Dolly\"                   |\n| Gill, Mr. John William                              |\n| Bystrom, Mrs. (Karolina)                            |\n| Duran y More, Miss. Asuncion                        |\n| Roebling, Mr. Washington Augustus II                |\n| van Melkebeke, Mr. Philemon                         |\n| Johnson, Master. Harold Theodor                     |\n| Balkic, Mr. Cerin                                   |\n| Beckwith, Mrs. Richard Leonard (Sallie Monypeny)    |\n| Carlsson, Mr. Frans Olof                            |\n| Vander Cruyssen, Mr. Victor                         |\n| Abelson, Mrs. Samuel (Hannah Wizosky)               |\n| Najib, Miss. Adele Kiamie \"Jane\"                    |\n| Gustafsson, Mr. Alfred Ossian                       |\n| Petroff, Mr. Nedelio                                |\n| Laleff, Mr. Kristo                                  |\n| Potter, Mrs. Thomas Jr (Lily Alexenia Wilson)       |\n| Shelley, Mrs. William (Imanita Parrish Hall)        |\n| Markun, Mr. Johann                                  |\n| Dahlberg, Miss. Gerda Ulrika                        |\n| Banfield, Mr. Frederick James                       |\n| Sutehall, Mr. Henry Jr                              |\n| Rice, Mrs. William (Margaret Norton)                |\n| Montvila, Rev. Juozas                               |\n| Graham, Miss. Margaret Edith                        |\n| Johnston, Miss. Catherine Helen \"Carrie\"            |\n| Behr, Mr. Karl Howell                               |\n| Dooley, Mr. Patrick                                 |\n\n",
            "text/html": [
              "<table class=\"dataframe\">\n",
              "<caption>A data.frame: 891 × 1</caption>\n",
              "<thead>\n",
              "\t<tr><th scope=col>Name</th></tr>\n",
              "\t<tr><th scope=col>&lt;chr&gt;</th></tr>\n",
              "</thead>\n",
              "<tbody>\n",
              "\t<tr><td>Braund, Mr. Owen Harris                                  </td></tr>\n",
              "\t<tr><td>Cumings, Mrs. John Bradley (Florence Briggs Thayer)      </td></tr>\n",
              "\t<tr><td>Heikkinen, Miss. Laina                                   </td></tr>\n",
              "\t<tr><td>Futrelle, Mrs. Jacques Heath (Lily May Peel)             </td></tr>\n",
              "\t<tr><td>Allen, Mr. William Henry                                 </td></tr>\n",
              "\t<tr><td>Moran, Mr. James                                         </td></tr>\n",
              "\t<tr><td>McCarthy, Mr. Timothy J                                  </td></tr>\n",
              "\t<tr><td>Palsson, Master. Gosta Leonard                           </td></tr>\n",
              "\t<tr><td>Johnson, Mrs. Oscar W (Elisabeth Vilhelmina Berg)        </td></tr>\n",
              "\t<tr><td>Nasser, Mrs. Nicholas (Adele Achem)                      </td></tr>\n",
              "\t<tr><td>Sandstrom, Miss. Marguerite Rut                          </td></tr>\n",
              "\t<tr><td>Bonnell, Miss. Elizabeth                                 </td></tr>\n",
              "\t<tr><td>Saundercock, Mr. William Henry                           </td></tr>\n",
              "\t<tr><td>Andersson, Mr. Anders Johan                              </td></tr>\n",
              "\t<tr><td>Vestrom, Miss. Hulda Amanda Adolfina                     </td></tr>\n",
              "\t<tr><td>Hewlett, Mrs. (Mary D Kingcome)                          </td></tr>\n",
              "\t<tr><td>Rice, Master. Eugene                                     </td></tr>\n",
              "\t<tr><td>Williams, Mr. Charles Eugene                             </td></tr>\n",
              "\t<tr><td>Vander Planke, Mrs. Julius (Emelia Maria Vandemoortele)  </td></tr>\n",
              "\t<tr><td>Masselmani, Mrs. Fatima                                  </td></tr>\n",
              "\t<tr><td>Fynney, Mr. Joseph J                                     </td></tr>\n",
              "\t<tr><td>Beesley, Mr. Lawrence                                    </td></tr>\n",
              "\t<tr><td>McGowan, Miss. Anna \"Annie\"                              </td></tr>\n",
              "\t<tr><td>Sloper, Mr. William Thompson                             </td></tr>\n",
              "\t<tr><td>Palsson, Miss. Torborg Danira                            </td></tr>\n",
              "\t<tr><td>Asplund, Mrs. Carl Oscar (Selma Augusta Emilia Johansson)</td></tr>\n",
              "\t<tr><td>Emir, Mr. Farred Chehab                                  </td></tr>\n",
              "\t<tr><td>Fortune, Mr. Charles Alexander                           </td></tr>\n",
              "\t<tr><td>O'Dwyer, Miss. Ellen \"Nellie\"                            </td></tr>\n",
              "\t<tr><td>Todoroff, Mr. Lalio                                      </td></tr>\n",
              "\t<tr><td>⋮</td></tr>\n",
              "\t<tr><td>Giles, Mr. Frederick Edward                        </td></tr>\n",
              "\t<tr><td>Swift, Mrs. Frederick Joel (Margaret Welles Barron)</td></tr>\n",
              "\t<tr><td>Sage, Miss. Dorothy Edith \"Dolly\"                  </td></tr>\n",
              "\t<tr><td>Gill, Mr. John William                             </td></tr>\n",
              "\t<tr><td>Bystrom, Mrs. (Karolina)                           </td></tr>\n",
              "\t<tr><td>Duran y More, Miss. Asuncion                       </td></tr>\n",
              "\t<tr><td>Roebling, Mr. Washington Augustus II               </td></tr>\n",
              "\t<tr><td>van Melkebeke, Mr. Philemon                        </td></tr>\n",
              "\t<tr><td>Johnson, Master. Harold Theodor                    </td></tr>\n",
              "\t<tr><td>Balkic, Mr. Cerin                                  </td></tr>\n",
              "\t<tr><td>Beckwith, Mrs. Richard Leonard (Sallie Monypeny)   </td></tr>\n",
              "\t<tr><td>Carlsson, Mr. Frans Olof                           </td></tr>\n",
              "\t<tr><td>Vander Cruyssen, Mr. Victor                        </td></tr>\n",
              "\t<tr><td>Abelson, Mrs. Samuel (Hannah Wizosky)              </td></tr>\n",
              "\t<tr><td>Najib, Miss. Adele Kiamie \"Jane\"                   </td></tr>\n",
              "\t<tr><td>Gustafsson, Mr. Alfred Ossian                      </td></tr>\n",
              "\t<tr><td>Petroff, Mr. Nedelio                               </td></tr>\n",
              "\t<tr><td>Laleff, Mr. Kristo                                 </td></tr>\n",
              "\t<tr><td>Potter, Mrs. Thomas Jr (Lily Alexenia Wilson)      </td></tr>\n",
              "\t<tr><td>Shelley, Mrs. William (Imanita Parrish Hall)       </td></tr>\n",
              "\t<tr><td>Markun, Mr. Johann                                 </td></tr>\n",
              "\t<tr><td>Dahlberg, Miss. Gerda Ulrika                       </td></tr>\n",
              "\t<tr><td>Banfield, Mr. Frederick James                      </td></tr>\n",
              "\t<tr><td>Sutehall, Mr. Henry Jr                             </td></tr>\n",
              "\t<tr><td>Rice, Mrs. William (Margaret Norton)               </td></tr>\n",
              "\t<tr><td>Montvila, Rev. Juozas                              </td></tr>\n",
              "\t<tr><td>Graham, Miss. Margaret Edith                       </td></tr>\n",
              "\t<tr><td>Johnston, Miss. Catherine Helen \"Carrie\"           </td></tr>\n",
              "\t<tr><td>Behr, Mr. Karl Howell                              </td></tr>\n",
              "\t<tr><td>Dooley, Mr. Patrick                                </td></tr>\n",
              "</tbody>\n",
              "</table>\n"
            ]
          },
          "metadata": {
            "tags": []
          }
        }
      ]
    },
    {
      "cell_type": "markdown",
      "metadata": {
        "id": "kRpKBVPStvHQ"
      },
      "source": [
        "take two attribute and create a new dataframe"
      ]
    },
    {
      "cell_type": "code",
      "metadata": {
        "id": "dTgdaZrwNDpU"
      },
      "source": [
        "nameAge <- titanic[c('Name','Age')]"
      ],
      "execution_count": null,
      "outputs": []
    },
    {
      "cell_type": "code",
      "metadata": {
        "colab": {
          "base_uri": "https://localhost:8080/",
          "height": 283
        },
        "id": "muXU89YWPedw",
        "outputId": "a0661efb-0870-425a-8904-72e296986ad4"
      },
      "source": [
        "head(nameAge)"
      ],
      "execution_count": null,
      "outputs": [
        {
          "output_type": "display_data",
          "data": {
            "text/plain": [
              "  Name                                                Age\n",
              "1 Braund, Mr. Owen Harris                             22 \n",
              "2 Cumings, Mrs. John Bradley (Florence Briggs Thayer) 38 \n",
              "3 Heikkinen, Miss. Laina                              26 \n",
              "4 Futrelle, Mrs. Jacques Heath (Lily May Peel)        35 \n",
              "5 Allen, Mr. William Henry                            35 \n",
              "6 Moran, Mr. James                                    NA "
            ],
            "text/latex": "A data.frame: 6 × 2\n\\begin{tabular}{r|ll}\n  & Name & Age\\\\\n  & <chr> & <dbl>\\\\\n\\hline\n\t1 & Braund, Mr. Owen Harris                             & 22\\\\\n\t2 & Cumings, Mrs. John Bradley (Florence Briggs Thayer) & 38\\\\\n\t3 & Heikkinen, Miss. Laina                              & 26\\\\\n\t4 & Futrelle, Mrs. Jacques Heath (Lily May Peel)        & 35\\\\\n\t5 & Allen, Mr. William Henry                            & 35\\\\\n\t6 & Moran, Mr. James                                    & NA\\\\\n\\end{tabular}\n",
            "text/markdown": "\nA data.frame: 6 × 2\n\n| <!--/--> | Name &lt;chr&gt; | Age &lt;dbl&gt; |\n|---|---|---|\n| 1 | Braund, Mr. Owen Harris                             | 22 |\n| 2 | Cumings, Mrs. John Bradley (Florence Briggs Thayer) | 38 |\n| 3 | Heikkinen, Miss. Laina                              | 26 |\n| 4 | Futrelle, Mrs. Jacques Heath (Lily May Peel)        | 35 |\n| 5 | Allen, Mr. William Henry                            | 35 |\n| 6 | Moran, Mr. James                                    | NA |\n\n",
            "text/html": [
              "<table class=\"dataframe\">\n",
              "<caption>A data.frame: 6 × 2</caption>\n",
              "<thead>\n",
              "\t<tr><th></th><th scope=col>Name</th><th scope=col>Age</th></tr>\n",
              "\t<tr><th></th><th scope=col>&lt;chr&gt;</th><th scope=col>&lt;dbl&gt;</th></tr>\n",
              "</thead>\n",
              "<tbody>\n",
              "\t<tr><th scope=row>1</th><td>Braund, Mr. Owen Harris                            </td><td>22</td></tr>\n",
              "\t<tr><th scope=row>2</th><td>Cumings, Mrs. John Bradley (Florence Briggs Thayer)</td><td>38</td></tr>\n",
              "\t<tr><th scope=row>3</th><td>Heikkinen, Miss. Laina                             </td><td>26</td></tr>\n",
              "\t<tr><th scope=row>4</th><td>Futrelle, Mrs. Jacques Heath (Lily May Peel)       </td><td>35</td></tr>\n",
              "\t<tr><th scope=row>5</th><td>Allen, Mr. William Henry                           </td><td>35</td></tr>\n",
              "\t<tr><th scope=row>6</th><td>Moran, Mr. James                                   </td><td>NA</td></tr>\n",
              "</tbody>\n",
              "</table>\n"
            ]
          },
          "metadata": {
            "tags": []
          }
        }
      ]
    },
    {
      "cell_type": "markdown",
      "metadata": {
        "id": "awDmo-4qt0nj"
      },
      "source": [
        "creting function to sample dataset"
      ]
    },
    {
      "cell_type": "code",
      "metadata": {
        "id": "B4abFFgwQde3"
      },
      "source": [
        "Nseries = function(n,m){\n",
        "    a = n+m\n",
        "    titanic[n:a,]\n",
        "} "
      ],
      "execution_count": null,
      "outputs": []
    },
    {
      "cell_type": "code",
      "metadata": {
        "colab": {
          "base_uri": "https://localhost:8080/",
          "height": 221
        },
        "id": "TxfKpfmWQ3Qo",
        "outputId": "cefcd4fa-7d54-4126-d2c6-3453f7ab13ed"
      },
      "source": [
        "Nseries(2,3)"
      ],
      "execution_count": null,
      "outputs": [
        {
          "output_type": "display_data",
          "data": {
            "text/plain": [
              "  PassengerId Survived Pclass\n",
              "2 2           1        1     \n",
              "3 3           1        3     \n",
              "4 4           1        1     \n",
              "5 5           0        3     \n",
              "  Name                                                Sex    Age SibSp Parch\n",
              "2 Cumings, Mrs. John Bradley (Florence Briggs Thayer) female 38  1     0    \n",
              "3 Heikkinen, Miss. Laina                              female 26  0     0    \n",
              "4 Futrelle, Mrs. Jacques Heath (Lily May Peel)        female 35  1     0    \n",
              "5 Allen, Mr. William Henry                            male   35  0     0    \n",
              "  Ticket           Fare    Cabin Embarked\n",
              "2 PC 17599         71.2833 C85   C       \n",
              "3 STON/O2. 3101282  7.9250       S       \n",
              "4 113803           53.1000 C123  S       \n",
              "5 373450            8.0500       S       "
            ],
            "text/latex": "A data.frame: 4 × 12\n\\begin{tabular}{r|llllllllllll}\n  & PassengerId & Survived & Pclass & Name & Sex & Age & SibSp & Parch & Ticket & Fare & Cabin & Embarked\\\\\n  & <int> & <int> & <int> & <chr> & <chr> & <dbl> & <int> & <int> & <chr> & <dbl> & <chr> & <chr>\\\\\n\\hline\n\t2 & 2 & 1 & 1 & Cumings, Mrs. John Bradley (Florence Briggs Thayer) & female & 38 & 1 & 0 & PC 17599         & 71.2833 & C85  & C\\\\\n\t3 & 3 & 1 & 3 & Heikkinen, Miss. Laina                              & female & 26 & 0 & 0 & STON/O2. 3101282 &  7.9250 &      & S\\\\\n\t4 & 4 & 1 & 1 & Futrelle, Mrs. Jacques Heath (Lily May Peel)        & female & 35 & 1 & 0 & 113803           & 53.1000 & C123 & S\\\\\n\t5 & 5 & 0 & 3 & Allen, Mr. William Henry                            & male   & 35 & 0 & 0 & 373450           &  8.0500 &      & S\\\\\n\\end{tabular}\n",
            "text/markdown": "\nA data.frame: 4 × 12\n\n| <!--/--> | PassengerId &lt;int&gt; | Survived &lt;int&gt; | Pclass &lt;int&gt; | Name &lt;chr&gt; | Sex &lt;chr&gt; | Age &lt;dbl&gt; | SibSp &lt;int&gt; | Parch &lt;int&gt; | Ticket &lt;chr&gt; | Fare &lt;dbl&gt; | Cabin &lt;chr&gt; | Embarked &lt;chr&gt; |\n|---|---|---|---|---|---|---|---|---|---|---|---|---|\n| 2 | 2 | 1 | 1 | Cumings, Mrs. John Bradley (Florence Briggs Thayer) | female | 38 | 1 | 0 | PC 17599         | 71.2833 | C85  | C |\n| 3 | 3 | 1 | 3 | Heikkinen, Miss. Laina                              | female | 26 | 0 | 0 | STON/O2. 3101282 |  7.9250 | <!----> | S |\n| 4 | 4 | 1 | 1 | Futrelle, Mrs. Jacques Heath (Lily May Peel)        | female | 35 | 1 | 0 | 113803           | 53.1000 | C123 | S |\n| 5 | 5 | 0 | 3 | Allen, Mr. William Henry                            | male   | 35 | 0 | 0 | 373450           |  8.0500 | <!----> | S |\n\n",
            "text/html": [
              "<table class=\"dataframe\">\n",
              "<caption>A data.frame: 4 × 12</caption>\n",
              "<thead>\n",
              "\t<tr><th></th><th scope=col>PassengerId</th><th scope=col>Survived</th><th scope=col>Pclass</th><th scope=col>Name</th><th scope=col>Sex</th><th scope=col>Age</th><th scope=col>SibSp</th><th scope=col>Parch</th><th scope=col>Ticket</th><th scope=col>Fare</th><th scope=col>Cabin</th><th scope=col>Embarked</th></tr>\n",
              "\t<tr><th></th><th scope=col>&lt;int&gt;</th><th scope=col>&lt;int&gt;</th><th scope=col>&lt;int&gt;</th><th scope=col>&lt;chr&gt;</th><th scope=col>&lt;chr&gt;</th><th scope=col>&lt;dbl&gt;</th><th scope=col>&lt;int&gt;</th><th scope=col>&lt;int&gt;</th><th scope=col>&lt;chr&gt;</th><th scope=col>&lt;dbl&gt;</th><th scope=col>&lt;chr&gt;</th><th scope=col>&lt;chr&gt;</th></tr>\n",
              "</thead>\n",
              "<tbody>\n",
              "\t<tr><th scope=row>2</th><td>2</td><td>1</td><td>1</td><td>Cumings, Mrs. John Bradley (Florence Briggs Thayer)</td><td>female</td><td>38</td><td>1</td><td>0</td><td>PC 17599        </td><td>71.2833</td><td>C85 </td><td>C</td></tr>\n",
              "\t<tr><th scope=row>3</th><td>3</td><td>1</td><td>3</td><td>Heikkinen, Miss. Laina                             </td><td>female</td><td>26</td><td>0</td><td>0</td><td>STON/O2. 3101282</td><td> 7.9250</td><td>    </td><td>S</td></tr>\n",
              "\t<tr><th scope=row>4</th><td>4</td><td>1</td><td>1</td><td>Futrelle, Mrs. Jacques Heath (Lily May Peel)       </td><td>female</td><td>35</td><td>1</td><td>0</td><td>113803          </td><td>53.1000</td><td>C123</td><td>S</td></tr>\n",
              "\t<tr><th scope=row>5</th><td>5</td><td>0</td><td>3</td><td>Allen, Mr. William Henry                           </td><td>male  </td><td>35</td><td>0</td><td>0</td><td>373450          </td><td> 8.0500</td><td>    </td><td>S</td></tr>\n",
              "</tbody>\n",
              "</table>\n"
            ]
          },
          "metadata": {
            "tags": []
          }
        }
      ]
    },
    {
      "cell_type": "markdown",
      "metadata": {
        "id": "0nKFNNLDSp2X"
      },
      "source": [
        "# Task 2"
      ]
    },
    {
      "cell_type": "markdown",
      "metadata": {
        "id": "_5dBzfF_t4au"
      },
      "source": [
        "finding how many null values"
      ]
    },
    {
      "cell_type": "code",
      "metadata": {
        "colab": {
          "base_uri": "https://localhost:8080/",
          "height": 34
        },
        "id": "nQGS16nTSkHc",
        "outputId": "37e59b07-1dde-4679-ec75-8527c20926a0"
      },
      "source": [
        "colSums(is.na(titanic))"
      ],
      "execution_count": null,
      "outputs": [
        {
          "output_type": "display_data",
          "data": {
            "text/plain": [
              "PassengerId    Survived      Pclass        Name         Sex         Age \n",
              "          0           0           0           0           0         177 \n",
              "      SibSp       Parch      Ticket        Fare       Cabin    Embarked \n",
              "          0           0           0           0           0           0 "
            ],
            "text/latex": "\\begin{description*}\n\\item[PassengerId] 0\n\\item[Survived] 0\n\\item[Pclass] 0\n\\item[Name] 0\n\\item[Sex] 0\n\\item[Age] 177\n\\item[SibSp] 0\n\\item[Parch] 0\n\\item[Ticket] 0\n\\item[Fare] 0\n\\item[Cabin] 0\n\\item[Embarked] 0\n\\end{description*}\n",
            "text/markdown": "PassengerId\n:   0Survived\n:   0Pclass\n:   0Name\n:   0Sex\n:   0Age\n:   177SibSp\n:   0Parch\n:   0Ticket\n:   0Fare\n:   0Cabin\n:   0Embarked\n:   0\n\n",
            "text/html": [
              "<style>\n",
              ".dl-inline {width: auto; margin:0; padding: 0}\n",
              ".dl-inline>dt, .dl-inline>dd {float: none; width: auto; display: inline-block}\n",
              ".dl-inline>dt::after {content: \":\\0020\"; padding-right: .5ex}\n",
              ".dl-inline>dt:not(:first-of-type) {padding-left: .5ex}\n",
              "</style><dl class=dl-inline><dt>PassengerId</dt><dd>0</dd><dt>Survived</dt><dd>0</dd><dt>Pclass</dt><dd>0</dd><dt>Name</dt><dd>0</dd><dt>Sex</dt><dd>0</dd><dt>Age</dt><dd>177</dd><dt>SibSp</dt><dd>0</dd><dt>Parch</dt><dd>0</dd><dt>Ticket</dt><dd>0</dd><dt>Fare</dt><dd>0</dd><dt>Cabin</dt><dd>0</dd><dt>Embarked</dt><dd>0</dd></dl>\n"
            ]
          },
          "metadata": {
            "tags": []
          }
        }
      ]
    },
    {
      "cell_type": "markdown",
      "metadata": {
        "id": "yheRj15Ct7fd"
      },
      "source": [
        "delete the null value column"
      ]
    },
    {
      "cell_type": "code",
      "metadata": {
        "id": "x16TfVQySjxh"
      },
      "source": [
        "sample_data_1less <- subset(titanic, select = -c(SibSp) )"
      ],
      "execution_count": null,
      "outputs": []
    },
    {
      "cell_type": "code",
      "metadata": {
        "colab": {
          "base_uri": "https://localhost:8080/",
          "height": 283
        },
        "id": "CHQg-WlJSjtL",
        "outputId": "5d653eb5-2efc-4348-cd6f-cbc14fc4fa7b"
      },
      "source": [
        "head(sample_data_1less)"
      ],
      "execution_count": null,
      "outputs": [
        {
          "output_type": "display_data",
          "data": {
            "text/plain": [
              "  PassengerId Survived Pclass\n",
              "1 1           0        3     \n",
              "2 2           1        1     \n",
              "3 3           1        3     \n",
              "4 4           1        1     \n",
              "5 5           0        3     \n",
              "6 6           0        3     \n",
              "  Name                                                Sex    Age Parch\n",
              "1 Braund, Mr. Owen Harris                             male   22  0    \n",
              "2 Cumings, Mrs. John Bradley (Florence Briggs Thayer) female 38  0    \n",
              "3 Heikkinen, Miss. Laina                              female 26  0    \n",
              "4 Futrelle, Mrs. Jacques Heath (Lily May Peel)        female 35  0    \n",
              "5 Allen, Mr. William Henry                            male   35  0    \n",
              "6 Moran, Mr. James                                    male   NA  0    \n",
              "  Ticket           Fare    Cabin Embarked\n",
              "1 A/5 21171         7.2500       S       \n",
              "2 PC 17599         71.2833 C85   C       \n",
              "3 STON/O2. 3101282  7.9250       S       \n",
              "4 113803           53.1000 C123  S       \n",
              "5 373450            8.0500       S       \n",
              "6 330877            8.4583       Q       "
            ],
            "text/latex": "A data.frame: 6 × 11\n\\begin{tabular}{r|lllllllllll}\n  & PassengerId & Survived & Pclass & Name & Sex & Age & Parch & Ticket & Fare & Cabin & Embarked\\\\\n  & <int> & <int> & <int> & <chr> & <chr> & <dbl> & <int> & <chr> & <dbl> & <chr> & <chr>\\\\\n\\hline\n\t1 & 1 & 0 & 3 & Braund, Mr. Owen Harris                             & male   & 22 & 0 & A/5 21171        &  7.2500 &      & S\\\\\n\t2 & 2 & 1 & 1 & Cumings, Mrs. John Bradley (Florence Briggs Thayer) & female & 38 & 0 & PC 17599         & 71.2833 & C85  & C\\\\\n\t3 & 3 & 1 & 3 & Heikkinen, Miss. Laina                              & female & 26 & 0 & STON/O2. 3101282 &  7.9250 &      & S\\\\\n\t4 & 4 & 1 & 1 & Futrelle, Mrs. Jacques Heath (Lily May Peel)        & female & 35 & 0 & 113803           & 53.1000 & C123 & S\\\\\n\t5 & 5 & 0 & 3 & Allen, Mr. William Henry                            & male   & 35 & 0 & 373450           &  8.0500 &      & S\\\\\n\t6 & 6 & 0 & 3 & Moran, Mr. James                                    & male   & NA & 0 & 330877           &  8.4583 &      & Q\\\\\n\\end{tabular}\n",
            "text/markdown": "\nA data.frame: 6 × 11\n\n| <!--/--> | PassengerId &lt;int&gt; | Survived &lt;int&gt; | Pclass &lt;int&gt; | Name &lt;chr&gt; | Sex &lt;chr&gt; | Age &lt;dbl&gt; | Parch &lt;int&gt; | Ticket &lt;chr&gt; | Fare &lt;dbl&gt; | Cabin &lt;chr&gt; | Embarked &lt;chr&gt; |\n|---|---|---|---|---|---|---|---|---|---|---|---|\n| 1 | 1 | 0 | 3 | Braund, Mr. Owen Harris                             | male   | 22 | 0 | A/5 21171        |  7.2500 | <!----> | S |\n| 2 | 2 | 1 | 1 | Cumings, Mrs. John Bradley (Florence Briggs Thayer) | female | 38 | 0 | PC 17599         | 71.2833 | C85  | C |\n| 3 | 3 | 1 | 3 | Heikkinen, Miss. Laina                              | female | 26 | 0 | STON/O2. 3101282 |  7.9250 | <!----> | S |\n| 4 | 4 | 1 | 1 | Futrelle, Mrs. Jacques Heath (Lily May Peel)        | female | 35 | 0 | 113803           | 53.1000 | C123 | S |\n| 5 | 5 | 0 | 3 | Allen, Mr. William Henry                            | male   | 35 | 0 | 373450           |  8.0500 | <!----> | S |\n| 6 | 6 | 0 | 3 | Moran, Mr. James                                    | male   | NA | 0 | 330877           |  8.4583 | <!----> | Q |\n\n",
            "text/html": [
              "<table class=\"dataframe\">\n",
              "<caption>A data.frame: 6 × 11</caption>\n",
              "<thead>\n",
              "\t<tr><th></th><th scope=col>PassengerId</th><th scope=col>Survived</th><th scope=col>Pclass</th><th scope=col>Name</th><th scope=col>Sex</th><th scope=col>Age</th><th scope=col>Parch</th><th scope=col>Ticket</th><th scope=col>Fare</th><th scope=col>Cabin</th><th scope=col>Embarked</th></tr>\n",
              "\t<tr><th></th><th scope=col>&lt;int&gt;</th><th scope=col>&lt;int&gt;</th><th scope=col>&lt;int&gt;</th><th scope=col>&lt;chr&gt;</th><th scope=col>&lt;chr&gt;</th><th scope=col>&lt;dbl&gt;</th><th scope=col>&lt;int&gt;</th><th scope=col>&lt;chr&gt;</th><th scope=col>&lt;dbl&gt;</th><th scope=col>&lt;chr&gt;</th><th scope=col>&lt;chr&gt;</th></tr>\n",
              "</thead>\n",
              "<tbody>\n",
              "\t<tr><th scope=row>1</th><td>1</td><td>0</td><td>3</td><td>Braund, Mr. Owen Harris                            </td><td>male  </td><td>22</td><td>0</td><td>A/5 21171       </td><td> 7.2500</td><td>    </td><td>S</td></tr>\n",
              "\t<tr><th scope=row>2</th><td>2</td><td>1</td><td>1</td><td>Cumings, Mrs. John Bradley (Florence Briggs Thayer)</td><td>female</td><td>38</td><td>0</td><td>PC 17599        </td><td>71.2833</td><td>C85 </td><td>C</td></tr>\n",
              "\t<tr><th scope=row>3</th><td>3</td><td>1</td><td>3</td><td>Heikkinen, Miss. Laina                             </td><td>female</td><td>26</td><td>0</td><td>STON/O2. 3101282</td><td> 7.9250</td><td>    </td><td>S</td></tr>\n",
              "\t<tr><th scope=row>4</th><td>4</td><td>1</td><td>1</td><td>Futrelle, Mrs. Jacques Heath (Lily May Peel)       </td><td>female</td><td>35</td><td>0</td><td>113803          </td><td>53.1000</td><td>C123</td><td>S</td></tr>\n",
              "\t<tr><th scope=row>5</th><td>5</td><td>0</td><td>3</td><td>Allen, Mr. William Henry                           </td><td>male  </td><td>35</td><td>0</td><td>373450          </td><td> 8.0500</td><td>    </td><td>S</td></tr>\n",
              "\t<tr><th scope=row>6</th><td>6</td><td>0</td><td>3</td><td>Moran, Mr. James                                   </td><td>male  </td><td>NA</td><td>0</td><td>330877          </td><td> 8.4583</td><td>    </td><td>Q</td></tr>\n",
              "</tbody>\n",
              "</table>\n"
            ]
          },
          "metadata": {
            "tags": []
          }
        }
      ]
    },
    {
      "cell_type": "markdown",
      "metadata": {
        "id": "KaleaGInuEB7"
      },
      "source": [
        "summary of that dataset"
      ]
    },
    {
      "cell_type": "code",
      "metadata": {
        "colab": {
          "base_uri": "https://localhost:8080/",
          "height": 425
        },
        "id": "Ms0xOY1EUrfY",
        "outputId": "c771ae5d-068a-4644-ea20-e8b631eaa38e"
      },
      "source": [
        "summary(sample_data_1less)"
      ],
      "execution_count": null,
      "outputs": [
        {
          "output_type": "display_data",
          "data": {
            "text/plain": [
              "  PassengerId       Survived          Pclass          Name          \n",
              " Min.   :  1.0   Min.   :0.0000   Min.   :1.000   Length:891        \n",
              " 1st Qu.:223.5   1st Qu.:0.0000   1st Qu.:2.000   Class :character  \n",
              " Median :446.0   Median :0.0000   Median :3.000   Mode  :character  \n",
              " Mean   :446.0   Mean   :0.3838   Mean   :2.309                     \n",
              " 3rd Qu.:668.5   3rd Qu.:1.0000   3rd Qu.:3.000                     \n",
              " Max.   :891.0   Max.   :1.0000   Max.   :3.000                     \n",
              "                                                                    \n",
              "     Sex                 Age            Parch           Ticket         \n",
              " Length:891         Min.   : 0.42   Min.   :0.0000   Length:891        \n",
              " Class :character   1st Qu.:20.12   1st Qu.:0.0000   Class :character  \n",
              " Mode  :character   Median :28.00   Median :0.0000   Mode  :character  \n",
              "                    Mean   :29.70   Mean   :0.3816                     \n",
              "                    3rd Qu.:38.00   3rd Qu.:0.0000                     \n",
              "                    Max.   :80.00   Max.   :6.0000                     \n",
              "                    NA's   :177                                        \n",
              "      Fare           Cabin             Embarked        \n",
              " Min.   :  0.00   Length:891         Length:891        \n",
              " 1st Qu.:  7.91   Class :character   Class :character  \n",
              " Median : 14.45   Mode  :character   Mode  :character  \n",
              " Mean   : 32.20                                        \n",
              " 3rd Qu.: 31.00                                        \n",
              " Max.   :512.33                                        \n",
              "                                                       "
            ]
          },
          "metadata": {
            "tags": []
          }
        }
      ]
    },
    {
      "cell_type": "code",
      "metadata": {
        "id": "g-63COU7Urcd"
      },
      "source": [
        ""
      ],
      "execution_count": null,
      "outputs": []
    },
    {
      "cell_type": "markdown",
      "metadata": {
        "id": "kR3_zU7_jekf"
      },
      "source": [
        "# Task 3"
      ]
    },
    {
      "cell_type": "markdown",
      "metadata": {
        "id": "U3DHX8mouG8K"
      },
      "source": [
        "summery of two columns"
      ]
    },
    {
      "cell_type": "code",
      "metadata": {
        "colab": {
          "base_uri": "https://localhost:8080/",
          "height": 153
        },
        "id": "A_jbX7DUUrBM",
        "outputId": "5ab2c30c-b606-487c-ff07-a929d5ecf1f1"
      },
      "source": [
        "summary(titanic[c('Fare','Age')])"
      ],
      "execution_count": null,
      "outputs": [
        {
          "output_type": "display_data",
          "data": {
            "text/plain": [
              "      Fare             Age       \n",
              " Min.   :  0.00   Min.   : 0.42  \n",
              " 1st Qu.:  7.91   1st Qu.:20.12  \n",
              " Median : 14.45   Median :28.00  \n",
              " Mean   : 32.20   Mean   :29.70  \n",
              " 3rd Qu.: 31.00   3rd Qu.:38.00  \n",
              " Max.   :512.33   Max.   :80.00  \n",
              "                  NA's   :177    "
            ]
          },
          "metadata": {
            "tags": []
          }
        }
      ]
    },
    {
      "cell_type": "code",
      "metadata": {
        "colab": {
          "base_uri": "https://localhost:8080/",
          "height": 283
        },
        "id": "z3XcjAcjUq8l",
        "outputId": "e91593b4-8ec5-4035-ac37-bbf8694b8b67"
      },
      "source": [
        "head(titanic[c('Fare','Age')])"
      ],
      "execution_count": null,
      "outputs": [
        {
          "output_type": "display_data",
          "data": {
            "text/plain": [
              "  Fare    Age\n",
              "1  7.2500 22 \n",
              "2 71.2833 38 \n",
              "3  7.9250 26 \n",
              "4 53.1000 35 \n",
              "5  8.0500 35 \n",
              "6  8.4583 NA "
            ],
            "text/latex": "A data.frame: 6 × 2\n\\begin{tabular}{r|ll}\n  & Fare & Age\\\\\n  & <dbl> & <dbl>\\\\\n\\hline\n\t1 &  7.2500 & 22\\\\\n\t2 & 71.2833 & 38\\\\\n\t3 &  7.9250 & 26\\\\\n\t4 & 53.1000 & 35\\\\\n\t5 &  8.0500 & 35\\\\\n\t6 &  8.4583 & NA\\\\\n\\end{tabular}\n",
            "text/markdown": "\nA data.frame: 6 × 2\n\n| <!--/--> | Fare &lt;dbl&gt; | Age &lt;dbl&gt; |\n|---|---|---|\n| 1 |  7.2500 | 22 |\n| 2 | 71.2833 | 38 |\n| 3 |  7.9250 | 26 |\n| 4 | 53.1000 | 35 |\n| 5 |  8.0500 | 35 |\n| 6 |  8.4583 | NA |\n\n",
            "text/html": [
              "<table class=\"dataframe\">\n",
              "<caption>A data.frame: 6 × 2</caption>\n",
              "<thead>\n",
              "\t<tr><th></th><th scope=col>Fare</th><th scope=col>Age</th></tr>\n",
              "\t<tr><th></th><th scope=col>&lt;dbl&gt;</th><th scope=col>&lt;dbl&gt;</th></tr>\n",
              "</thead>\n",
              "<tbody>\n",
              "\t<tr><th scope=row>1</th><td> 7.2500</td><td>22</td></tr>\n",
              "\t<tr><th scope=row>2</th><td>71.2833</td><td>38</td></tr>\n",
              "\t<tr><th scope=row>3</th><td> 7.9250</td><td>26</td></tr>\n",
              "\t<tr><th scope=row>4</th><td>53.1000</td><td>35</td></tr>\n",
              "\t<tr><th scope=row>5</th><td> 8.0500</td><td>35</td></tr>\n",
              "\t<tr><th scope=row>6</th><td> 8.4583</td><td>NA</td></tr>\n",
              "</tbody>\n",
              "</table>\n"
            ]
          },
          "metadata": {
            "tags": []
          }
        }
      ]
    },
    {
      "cell_type": "markdown",
      "metadata": {
        "id": "iQGUczA0uNw9"
      },
      "source": [
        "try to plot histogram using ggplot"
      ]
    },
    {
      "cell_type": "code",
      "metadata": {
        "colab": {
          "base_uri": "https://localhost:8080/",
          "height": 147
        },
        "id": "TXJElArym9N6",
        "outputId": "8216d08c-dde3-4584-d578-054bbded5f85"
      },
      "source": [
        "install.packages(\"ggplot2\")"
      ],
      "execution_count": null,
      "outputs": [
        {
          "output_type": "stream",
          "text": [
            "Installing package into ‘/usr/local/lib/R/site-library’\n",
            "(as ‘lib’ is unspecified)\n",
            "\n"
          ],
          "name": "stderr"
        },
        {
          "output_type": "error",
          "ename": "ERROR",
          "evalue": "ignored",
          "traceback": [
            "Error in !install.packages(\"ggplot2\"): invalid argument type\nTraceback:\n"
          ]
        }
      ]
    },
    {
      "cell_type": "code",
      "metadata": {
        "id": "IPZXHLB_nDhR"
      },
      "source": [
        "library(ggplot2)"
      ],
      "execution_count": null,
      "outputs": []
    },
    {
      "cell_type": "code",
      "metadata": {
        "colab": {
          "base_uri": "https://localhost:8080/",
          "height": 1000
        },
        "id": "JBesvtTRnQ_M",
        "outputId": "095e0301-a3a7-4b57-b648-02da3f11c9cc"
      },
      "source": [
        "# Data Layer\n",
        "ggplot(data = titanic)\n",
        "   \n",
        "# Aesthetic Layer\n",
        "ggplot(data = titanic, aes(x = Fare, y = Age))\n",
        "\n",
        "# Geometric layer\n",
        "ggplot(data = titanic, \n",
        "       aes(x = Fare, y = Age, col = disp)) + geom_point()\n",
        "\n",
        "# Adding size\n",
        "ggplot(data = titanic, \n",
        "       aes(x = Fare, y = Age, size = disp)) + geom_point()\n",
        "   \n",
        "# Adding color and shape\n",
        "ggplot(data = titanic, \n",
        "       aes(x = Fare, y = Age, col = factor(cyl), \n",
        "                          shape = factor(am))) + geom_point()"
      ],
      "execution_count": null,
      "outputs": [
        {
          "output_type": "display_data",
          "data": {
            "image/png": "[encoded data removed]",
            "text/plain": [
              "plot without title"
            ]
          },
          "metadata": {
            "tags": [],
            "image/png": {
              "width": 420,
              "height": 420
            }
          }
        },
        {
          "output_type": "stream",
          "text": [
            "ERROR while rich displaying an object: Error in FUN(X[[i]], ...): object 'disp' not found\n",
            "\n",
            "Traceback:\n",
            "1. FUN(X[[i]], ...)\n",
            "2. tryCatch(withCallingHandlers({\n",
            " .     if (!mime %in% names(repr::mime2repr)) \n",
            " .         stop(\"No repr_* for mimetype \", mime, \" in repr::mime2repr\")\n",
            " .     rpr <- repr::mime2repr[[mime]](obj)\n",
            " .     if (is.null(rpr)) \n",
            " .         return(NULL)\n",
            " .     prepare_content(is.raw(rpr), rpr)\n",
            " . }, error = error_handler), error = outer_handler)\n",
            "3. tryCatchList(expr, classes, parentenv, handlers)\n",
            "4. tryCatchOne(expr, names, parentenv, handlers[[1L]])\n",
            "5. doTryCatch(return(expr), name, parentenv, handler)\n",
            "6. withCallingHandlers({\n",
            " .     if (!mime %in% names(repr::mime2repr)) \n",
            " .         stop(\"No repr_* for mimetype \", mime, \" in repr::mime2repr\")\n",
            " .     rpr <- repr::mime2repr[[mime]](obj)\n",
            " .     if (is.null(rpr)) \n",
            " .         return(NULL)\n",
            " .     prepare_content(is.raw(rpr), rpr)\n",
            " . }, error = error_handler)\n",
            "7. repr::mime2repr[[mime]](obj)\n",
            "8. repr_text.default(obj)\n",
            "9. paste(capture.output(print(obj)), collapse = \"\\n\")\n",
            "10. capture.output(print(obj))\n",
            "11. evalVis(expr)\n",
            "12. withVisible(eval(expr, pf))\n",
            "13. eval(expr, pf)\n",
            "14. eval(expr, pf)\n",
            "15. print(obj)\n",
            "16. print.ggplot(obj)\n",
            "17. ggplot_build(x)\n",
            "18. ggplot_build.ggplot(x)\n",
            "19. by_layer(function(l, d) l$compute_aesthetics(d, plot))\n",
            "20. f(l = layers[[i]], d = data[[i]])\n",
            "21. l$compute_aesthetics(d, plot)\n",
            "22. f(..., self = self)\n",
            "23. scales_add_defaults(plot$scales, data, aesthetics, plot$plot_env)\n",
            "24. lapply(aesthetics[new_aesthetics], eval_tidy, data = data)\n",
            "25. FUN(X[[i]], ...)\n"
          ],
          "name": "stderr"
        },
        {
          "output_type": "display_data",
          "data": {
            "image/png": "[encoded data removed]",
            "text/plain": [
              "plot without title"
            ]
          },
          "metadata": {
            "tags": [],
            "image/png": {
              "width": 420,
              "height": 420
            }
          }
        },
        {
          "output_type": "stream",
          "text": [
            "ERROR while rich displaying an object: Error in FUN(X[[i]], ...): object 'disp' not found\n",
            "\n",
            "Traceback:\n",
            "1. FUN(X[[i]], ...)\n",
            "2. tryCatch(withCallingHandlers({\n",
            " .     if (!mime %in% names(repr::mime2repr)) \n",
            " .         stop(\"No repr_* for mimetype \", mime, \" in repr::mime2repr\")\n",
            " .     rpr <- repr::mime2repr[[mime]](obj)\n",
            " .     if (is.null(rpr)) \n",
            " .         return(NULL)\n",
            " .     prepare_content(is.raw(rpr), rpr)\n",
            " . }, error = error_handler), error = outer_handler)\n",
            "3. tryCatchList(expr, classes, parentenv, handlers)\n",
            "4. tryCatchOne(expr, names, parentenv, handlers[[1L]])\n",
            "5. doTryCatch(return(expr), name, parentenv, handler)\n",
            "6. withCallingHandlers({\n",
            " .     if (!mime %in% names(repr::mime2repr)) \n",
            " .         stop(\"No repr_* for mimetype \", mime, \" in repr::mime2repr\")\n",
            " .     rpr <- repr::mime2repr[[mime]](obj)\n",
            " .     if (is.null(rpr)) \n",
            " .         return(NULL)\n",
            " .     prepare_content(is.raw(rpr), rpr)\n",
            " . }, error = error_handler)\n",
            "7. repr::mime2repr[[mime]](obj)\n",
            "8. repr_text.default(obj)\n",
            "9. paste(capture.output(print(obj)), collapse = \"\\n\")\n",
            "10. capture.output(print(obj))\n",
            "11. evalVis(expr)\n",
            "12. withVisible(eval(expr, pf))\n",
            "13. eval(expr, pf)\n",
            "14. eval(expr, pf)\n",
            "15. print(obj)\n",
            "16. print.ggplot(obj)\n",
            "17. ggplot_build(x)\n",
            "18. ggplot_build.ggplot(x)\n",
            "19. by_layer(function(l, d) l$compute_aesthetics(d, plot))\n",
            "20. f(l = layers[[i]], d = data[[i]])\n",
            "21. l$compute_aesthetics(d, plot)\n",
            "22. f(..., self = self)\n",
            "23. scales_add_defaults(plot$scales, data, aesthetics, plot$plot_env)\n",
            "24. lapply(aesthetics[new_aesthetics], eval_tidy, data = data)\n",
            "25. FUN(X[[i]], ...)\n",
            "ERROR while rich displaying an object: Error in factor(cyl): object 'cyl' not found\n",
            "\n",
            "Traceback:\n",
            "1. FUN(X[[i]], ...)\n",
            "2. tryCatch(withCallingHandlers({\n",
            " .     if (!mime %in% names(repr::mime2repr)) \n",
            " .         stop(\"No repr_* for mimetype \", mime, \" in repr::mime2repr\")\n",
            " .     rpr <- repr::mime2repr[[mime]](obj)\n",
            " .     if (is.null(rpr)) \n",
            " .         return(NULL)\n",
            " .     prepare_content(is.raw(rpr), rpr)\n",
            " . }, error = error_handler), error = outer_handler)\n",
            "3. tryCatchList(expr, classes, parentenv, handlers)\n",
            "4. tryCatchOne(expr, names, parentenv, handlers[[1L]])\n",
            "5. doTryCatch(return(expr), name, parentenv, handler)\n",
            "6. withCallingHandlers({\n",
            " .     if (!mime %in% names(repr::mime2repr)) \n",
            " .         stop(\"No repr_* for mimetype \", mime, \" in repr::mime2repr\")\n",
            " .     rpr <- repr::mime2repr[[mime]](obj)\n",
            " .     if (is.null(rpr)) \n",
            " .         return(NULL)\n",
            " .     prepare_content(is.raw(rpr), rpr)\n",
            " . }, error = error_handler)\n",
            "7. repr::mime2repr[[mime]](obj)\n",
            "8. repr_text.default(obj)\n",
            "9. paste(capture.output(print(obj)), collapse = \"\\n\")\n",
            "10. capture.output(print(obj))\n",
            "11. evalVis(expr)\n",
            "12. withVisible(eval(expr, pf))\n",
            "13. eval(expr, pf)\n",
            "14. eval(expr, pf)\n",
            "15. print(obj)\n",
            "16. print.ggplot(obj)\n",
            "17. ggplot_build(x)\n",
            "18. ggplot_build.ggplot(x)\n",
            "19. by_layer(function(l, d) l$compute_aesthetics(d, plot))\n",
            "20. f(l = layers[[i]], d = data[[i]])\n",
            "21. l$compute_aesthetics(d, plot)\n",
            "22. f(..., self = self)\n",
            "23. scales_add_defaults(plot$scales, data, aesthetics, plot$plot_env)\n",
            "24. lapply(aesthetics[new_aesthetics], eval_tidy, data = data)\n",
            "25. FUN(X[[i]], ...)\n",
            "26. factor(cyl)\n"
          ],
          "name": "stderr"
        },
        {
          "output_type": "display_data",
          "data": {
            "image/png": "[encoded data removed]",
            "text/plain": [
              "plot without title"
            ]
          },
          "metadata": {
            "tags": [],
            "image/png": {
              "width": 420,
              "height": 420
            }
          }
        }
      ]
    },
    {
      "cell_type": "markdown",
      "metadata": {
        "id": "CM_R_O9AuRvN"
      },
      "source": [
        "filling null values of Age column with their mean"
      ]
    },
    {
      "cell_type": "code",
      "metadata": {
        "id": "HZqpn5ZFpWSC"
      },
      "source": [
        "titanic[c('Age')][is.na(titanic[c('Age')])] = 29.70"
      ],
      "execution_count": null,
      "outputs": []
    },
    {
      "cell_type": "markdown",
      "metadata": {
        "id": "fe5p4YhouXF5"
      },
      "source": [
        "finding correlation between them"
      ]
    },
    {
      "cell_type": "code",
      "metadata": {
        "id": "jDNNY6MfnQ80"
      },
      "source": [
        "x = titanic[c('Fare')]\n",
        "y = titanic[c('Age')]"
      ],
      "execution_count": null,
      "outputs": []
    },
    {
      "cell_type": "code",
      "metadata": {
        "id": "VqGORo0tobDF"
      },
      "source": [
        "result = cor(x,y, method = \"pearson\") "
      ],
      "execution_count": null,
      "outputs": []
    },
    {
      "cell_type": "code",
      "metadata": {
        "colab": {
          "base_uri": "https://localhost:8080/"
        },
        "id": "nhqwvsUBoa_S",
        "outputId": "1d01501c-9e37-4387-bce9-092466f312c1"
      },
      "source": [
        "cat(\"Pearson correlation coefficient is:\", result)"
      ],
      "execution_count": null,
      "outputs": [
        {
          "output_type": "stream",
          "text": [
            "Pearson correlation coefficient is: 0.09156336"
          ],
          "name": "stdout"
        }
      ]
    },
    {
      "cell_type": "code",
      "metadata": {
        "colab": {
          "base_uri": "https://localhost:8080/",
          "height": 114
        },
        "id": "9cP5VeZRoa8L",
        "outputId": "391ea69d-2cb2-4265-e593-d0eba8884975"
      },
      "source": [
        "result"
      ],
      "execution_count": null,
      "outputs": [
        {
          "output_type": "display_data",
          "data": {
            "text/plain": [
              "     Age       \n",
              "Fare 0.09156336"
            ],
            "text/latex": "A matrix: 1 × 1 of type dbl\n\\begin{tabular}{r|l}\n  & Age\\\\\n\\hline\n\tFare & 0.09156336\\\\\n\\end{tabular}\n",
            "text/markdown": "\nA matrix: 1 × 1 of type dbl\n\n| <!--/--> | Age |\n|---|---|\n| Fare | 0.09156336 |\n\n",
            "text/html": [
              "<table class=\"dataframe\">\n",
              "<caption>A matrix: 1 × 1 of type dbl</caption>\n",
              "<thead>\n",
              "\t<tr><th></th><th scope=col>Age</th></tr>\n",
              "</thead>\n",
              "<tbody>\n",
              "\t<tr><th scope=row>Fare</th><td>0.09156336</td></tr>\n",
              "</tbody>\n",
              "</table>\n"
            ]
          },
          "metadata": {
            "tags": []
          }
        }
      ]
    },
    {
      "cell_type": "markdown",
      "metadata": {
        "id": "sDPLpKlBuam-"
      },
      "source": [
        "BoxPlot"
      ]
    },
    {
      "cell_type": "code",
      "metadata": {
        "colab": {
          "base_uri": "https://localhost:8080/",
          "height": 437
        },
        "id": "DOM4G2Zkoa5s",
        "outputId": "93940558-5212-4825-b226-34955de7a122"
      },
      "source": [
        "boxplot(Fare ~ Age, data = titanic, \n",
        "        xlab = \"Fare\",\n",
        "        ylab = \"Age\", \n",
        "        main = \"Fare vs Age\")"
      ],
      "execution_count": null,
      "outputs": [
        {
          "output_type": "display_data",
          "data": {
            "image/png": "[encoded data removed]",
            "text/plain": [
              "Plot with title “Fare vs Age”"
            ]
          },
          "metadata": {
            "tags": [],
            "image/png": {
              "width": 420,
              "height": 420
            }
          }
        }
      ]
    },
    {
      "cell_type": "markdown",
      "metadata": {
        "id": "KK_pX6JSucpF"
      },
      "source": [
        "Try to create plot_hist function that will print given column histogram"
      ]
    },
    {
      "cell_type": "code",
      "metadata": {
        "id": "YESMFdN8q7UT"
      },
      "source": [
        "plot_hist = function(df,col){\n",
        "    ggplot(data = df, aes(x = col)) + \n",
        "    geom_histogram(binwidth = 5)\n",
        "} "
      ],
      "execution_count": null,
      "outputs": []
    },
    {
      "cell_type": "code",
      "metadata": {
        "colab": {
          "base_uri": "https://localhost:8080/",
          "height": 1000
        },
        "id": "2S5IHP4grF6k",
        "outputId": "dd0812db-9f11-4818-ec5e-26650b41d832"
      },
      "source": [
        "plot_hist(titanic,Fare)"
      ],
      "execution_count": null,
      "outputs": [
        {
          "output_type": "stream",
          "text": [
            "ERROR while rich displaying an object: Error in FUN(X[[i]], ...): object 'Fare' not found\n",
            "\n",
            "Traceback:\n",
            "1. FUN(X[[i]], ...)\n",
            "2. tryCatch(withCallingHandlers({\n",
            " .     if (!mime %in% names(repr::mime2repr)) \n",
            " .         stop(\"No repr_* for mimetype \", mime, \" in repr::mime2repr\")\n",
            " .     rpr <- repr::mime2repr[[mime]](obj)\n",
            " .     if (is.null(rpr)) \n",
            " .         return(NULL)\n",
            " .     prepare_content(is.raw(rpr), rpr)\n",
            " . }, error = error_handler), error = outer_handler)\n",
            "3. tryCatchList(expr, classes, parentenv, handlers)\n",
            "4. tryCatchOne(expr, names, parentenv, handlers[[1L]])\n",
            "5. doTryCatch(return(expr), name, parentenv, handler)\n",
            "6. withCallingHandlers({\n",
            " .     if (!mime %in% names(repr::mime2repr)) \n",
            " .         stop(\"No repr_* for mimetype \", mime, \" in repr::mime2repr\")\n",
            " .     rpr <- repr::mime2repr[[mime]](obj)\n",
            " .     if (is.null(rpr)) \n",
            " .         return(NULL)\n",
            " .     prepare_content(is.raw(rpr), rpr)\n",
            " . }, error = error_handler)\n",
            "7. repr::mime2repr[[mime]](obj)\n",
            "8. repr_text.default(obj)\n",
            "9. paste(capture.output(print(obj)), collapse = \"\\n\")\n",
            "10. capture.output(print(obj))\n",
            "11. evalVis(expr)\n",
            "12. withVisible(eval(expr, pf))\n",
            "13. eval(expr, pf)\n",
            "14. eval(expr, pf)\n",
            "15. print(obj)\n",
            "16. print.ggplot(obj)\n",
            "17. ggplot_build(x)\n",
            "18. ggplot_build.ggplot(x)\n",
            "19. by_layer(function(l, d) l$compute_aesthetics(d, plot))\n",
            "20. f(l = layers[[i]], d = data[[i]])\n",
            "21. l$compute_aesthetics(d, plot)\n",
            "22. f(..., self = self)\n",
            "23. scales_add_defaults(plot$scales, data, aesthetics, plot$plot_env)\n",
            "24. lapply(aesthetics[new_aesthetics], eval_tidy, data = data)\n",
            "25. FUN(X[[i]], ...)\n"
          ],
          "name": "stderr"
        },
        {
          "output_type": "display_data",
          "data": {
            "image/png": "[encoded data removed]",
            "text/plain": [
              "plot without title"
            ]
          },
          "metadata": {
            "tags": [],
            "image/png": {
              "width": 420,
              "height": 420
            }
          }
        }
      ]
    },
    {
      "cell_type": "code",
      "metadata": {
        "colab": {
          "base_uri": "https://localhost:8080/",
          "height": 437
        },
        "id": "WxXQ6Ck6oa3U",
        "outputId": "69e92c38-fdb9-4a9d-9514-1682d63c0ae8"
      },
      "source": [
        "ggplot(data = titanic, aes(x = Fare)) +\n",
        "       geom_histogram(binwidth = 5)"
      ],
      "execution_count": null,
      "outputs": [
        {
          "output_type": "display_data",
          "data": {
            "image/png": "[encoded data removed]",
            "text/plain": [
              "plot without title"
            ]
          },
          "metadata": {
            "tags": [],
            "image/png": {
              "width": 420,
              "height": 420
            }
          }
        }
      ]
    },
    {
      "cell_type": "code",
      "metadata": {
        "id": "vyjago2Loa06"
      },
      "source": [
        "plot_hist_fun = function(df,col){\n",
        "    hist()\n",
        "} "
      ],
      "execution_count": null,
      "outputs": []
    },
    {
      "cell_type": "code",
      "metadata": {
        "colab": {
          "base_uri": "https://localhost:8080/",
          "height": 437
        },
        "id": "tMWO41tEmTLe",
        "outputId": "ebef0f62-3392-4cfc-ef07-11a1c9e15699"
      },
      "source": [
        "with(titanic, plot(Fare, Age))"
      ],
      "execution_count": null,
      "outputs": [
        {
          "output_type": "display_data",
          "data": {
            "image/png": "[encoded data removed]",
            "text/plain": [
              "plot without title"
            ]
          },
          "metadata": {
            "tags": [],
            "image/png": {
              "width": 420,
              "height": 420
            }
          }
        }
      ]
    },
    {
      "cell_type": "code",
      "metadata": {
        "colab": {
          "base_uri": "https://localhost:8080/",
          "height": 437
        },
        "id": "dFm_3z9LUq4f",
        "outputId": "dd4f8482-c261-4fc5-eeb9-72da5fee3d29"
      },
      "source": [
        "plot(x = titanic$Fare, y = titanic$Age,\n",
        "     xlab = \"Fare\",\n",
        "     ylab = \"Age\",         \n",
        "     main = \"Fare vs Age\"\n",
        ")"
      ],
      "execution_count": null,
      "outputs": [
        {
          "output_type": "display_data",
          "data": {
            "image/png": "[encoded data removed]",
            "text/plain": [
              "Plot with title “Fare vs Age”"
            ]
          },
          "metadata": {
            "tags": [],
            "image/png": {
              "width": 420,
              "height": 420
            }
          }
        }
      ]
    },
    {
      "cell_type": "code",
      "metadata": {
        "id": "FbVeTJvXUq1N"
      },
      "source": [
        ""
      ],
      "execution_count": null,
      "outputs": []
    },
    {
      "cell_type": "code",
      "metadata": {
        "id": "k1Z06gzPUqx-"
      },
      "source": [
        ""
      ],
      "execution_count": null,
      "outputs": []
    }
  ]
}